{
 "cells": [
  {
   "cell_type": "code",
   "execution_count": 0,
   "metadata": {
    "application/vnd.databricks.v1+cell": {
     "cellMetadata": {
      "byteLimit": 2048000,
      "rowLimit": 10000
     },
     "inputWidgets": {},
     "nuid": "7e4e5dac-3109-4e02-9128-142002e582b4",
     "showTitle": false,
     "title": ""
    }
   },
   "outputs": [
    {
     "output_type": "stream",
     "name": "stdout",
     "output_type": "stream",
     "text": [
      "+------------+--------+------------------+\n|Release_Year|Category|Average_IMDB_Score|\n+------------+--------+------------------+\n|        2015|   MOVIE|              6.25|\n|        2015|    SHOW|              7.37|\n|        2016|   MOVIE|              6.24|\n|        2016|    SHOW|              7.26|\n|        2017|   MOVIE|              6.24|\n|        2017|    SHOW|              7.14|\n|        2018|   MOVIE|              6.21|\n|        2018|    SHOW|              7.03|\n|        2019|   MOVIE|              6.24|\n|        2019|    SHOW|              7.01|\n|        2020|   MOVIE|              6.06|\n|        2020|    SHOW|               6.8|\n|        2021|   MOVIE|              6.03|\n|        2021|    SHOW|              6.75|\n|        2022|   MOVIE|              5.97|\n|        2022|    SHOW|              6.55|\n+------------+--------+------------------+\n\n"
     ]
    }
   ],
   "source": [
    "# Import SparkSession\n",
    "from pyspark.sql import SparkSession\n",
    "\n",
    "# Create SparkSession \n",
    "spark = SparkSession.builder \\\n",
    "    .appName(\"Netflix IMDB Stats\") \\\n",
    "    .getOrCreate()\n",
    "\n",
    "# Perform Spark SQL Query on Table Data\n",
    "# This query looks at the average imdb_score for movies and tv shows in each release year after 2015 inclusive\n",
    "df = spark.sql(\"\"\"\n",
    "                SELECT release_year AS Release_Year,\n",
    "                        category AS Category,\n",
    "                        round(avg(imdb_score),2) as Average_IMDB_Score\n",
    "                FROM netflix_tv_shows_and_movies AS n\n",
    "                WHERE n.release_year >= 2015\n",
    "                GROUP BY Release_Year, Category\n",
    "                ORDER BY Release_Year ASC, Category ASC\n",
    "              \"\"\")\n",
    "\n",
    "# Show Results\n",
    "df.show()"
   ]
  }
 ],
 "metadata": {
  "application/vnd.databricks.v1+notebook": {
   "dashboards": [],
   "language": "python",
   "notebookMetadata": {
    "mostRecentlyExecutedCommandWithImplicitDF": {
     "commandId": 1770946198128446,
     "dataframes": [
      "_sqldf"
     ]
    },
    "pythonIndentUnit": 4
   },
   "notebookName": "batch_processing",
   "widgets": {}
  }
 },
 "nbformat": 4,
 "nbformat_minor": 0
}
