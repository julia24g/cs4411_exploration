{
 "cells": [
  {
   "cell_type": "code",
   "execution_count": 0,
   "metadata": {
    "application/vnd.databricks.v1+cell": {
     "cellMetadata": {
      "byteLimit": 2048000,
      "rowLimit": 10000
     },
     "inputWidgets": {},
     "nuid": "9feffd64-e2f9-4895-bf39-95c55baaf00c",
     "showTitle": false,
     "title": ""
    }
   },
   "outputs": [],
   "source": [
    "url = \"https://data.seattle.gov/resource/kzjm-xkqj.json\"\n",
    "path = '/tmp/data/sfd'\n",
    "file = 'sfd-'\n",
    "extension = 'json'"
   ]
  },
  {
   "cell_type": "code",
   "execution_count": 0,
   "metadata": {
    "application/vnd.databricks.v1+cell": {
     "cellMetadata": {
      "byteLimit": 2048000,
      "rowLimit": 10000
     },
     "inputWidgets": {},
     "nuid": "408dbe86-6406-4e2b-b36f-bb2c8b14d969",
     "showTitle": false,
     "title": ""
    }
   },
   "outputs": [],
   "source": [
    "def save_json_api_to_file(api, path, file, extension):\n",
    "    import urllib.request as request\n",
    "    import json\n",
    "    import time\n",
    "\n",
    "    dbutils.fs.mkdirs(path)\n",
    "\n",
    "    with request.urlopen(api) as response:\n",
    "        if response.getcode() == 200:\n",
    "            source = response.read()\n",
    "            data = json.loads(source)\n",
    "        else:\n",
    "            print('An error occurred while retrieving data from API.')\n",
    "    \n",
    "    timestr = time.strftime(\"%Y%m%d-%H%M%S\")\n",
    "    filename = \"/dbfs{}/{}{}{}\".format(path, file, timestr, extension)\n",
    "    if filename:\n",
    "        with open(filename, 'w') as f:\n",
    "            json.dump(data, f)\n",
    "    return filename"
   ]
  },
  {
   "cell_type": "code",
   "execution_count": 0,
   "metadata": {
    "application/vnd.databricks.v1+cell": {
     "cellMetadata": {
      "byteLimit": 2048000,
      "rowLimit": 10000
     },
     "inputWidgets": {},
     "nuid": "1384121e-d5cc-4d91-9349-17ccbf7452a3",
     "showTitle": false,
     "title": ""
    }
   },
   "outputs": [
    {
     "output_type": "stream",
     "name": "stdout",
     "output_type": "stream",
     "text": [
      "/dbfs/tmp/data/sfd/sfd-20231206-215013json\n"
     ]
    }
   ],
   "source": [
    "jsonfile = save_json_api_to_file(url, path, file, extension)\n",
    "print(jsonfile)\n",
    "\n",
    "# Running this every 5 minutes will create new data"
   ]
  },
  {
   "cell_type": "code",
   "execution_count": 0,
   "metadata": {
    "application/vnd.databricks.v1+cell": {
     "cellMetadata": {
      "byteLimit": 2048000,
      "rowLimit": 10000
     },
     "inputWidgets": {},
     "nuid": "6383134b-f580-4021-b852-7a221e6df5f5",
     "showTitle": false,
     "title": ""
    }
   },
   "outputs": [
    {
     "output_type": "stream",
     "name": "stdout",
     "output_type": "stream",
     "text": [
      "sfd-20231203-194903json\nsfd-20231203-200101json\nsfd-20231203-205201json\nsfd-20231203-232137json\nsfd-20231203-233410json\nsfd-20231206-215013json\n"
     ]
    }
   ],
   "source": [
    "%sh\n",
    "ls /dbfs/tmp/data/sfd"
   ]
  }
 ],
 "metadata": {
  "application/vnd.databricks.v1+notebook": {
   "dashboards": [],
   "language": "python",
   "notebookMetadata": {
    "mostRecentlyExecutedCommandWithImplicitDF": {
     "commandId": 4003908758533300,
     "dataframes": [
      "_sqldf"
     ]
    },
    "pythonIndentUnit": 4
   },
   "notebookName": "Preparing Data",
   "widgets": {}
  }
 },
 "nbformat": 4,
 "nbformat_minor": 0
}
